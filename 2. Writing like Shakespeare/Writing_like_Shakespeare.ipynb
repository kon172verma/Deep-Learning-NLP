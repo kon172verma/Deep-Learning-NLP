{
  "nbformat": 4,
  "nbformat_minor": 0,
  "metadata": {
    "colab": {
      "name": "Writing like Shakespeare.ipynb",
      "provenance": [],
      "collapsed_sections": []
    },
    "kernelspec": {
      "name": "python3",
      "display_name": "Python 3"
    },
    "accelerator": "GPU"
  },
  "cells": [
    {
      "cell_type": "markdown",
      "metadata": {
        "id": "29sEzVb1FvtV",
        "colab_type": "text"
      },
      "source": [
        "----\n",
        "<h1><b>Writing like Shakespeare</b></h1>\n",
        "<p> - Konark Verma</p>\n",
        "</br>\n",
        "<p><b>Problem Statement:</b></p><p>Using a collection of Shakespeare Sonnets, we want to built a Deep Learning System using a deep Recurrent Neural Network with a combination of Bidirectional-LSTMs and LSTMs that could help us generate similar poems.</p>\n",
        "</br>\n",
        "<p><b>Real-world/Business objectives and constraints:</b>\n",
        "<ol>\n",
        "<li>Minimize multi-class error.</li>\n",
        "<li>Multi-class probability estimates.</li>\n",
        "<li>Generating output should not take hours and block the user's computer. It should finish within a few seconds.</li>\n",
        "</ol>\n"
      ]
    },
    {
      "cell_type": "code",
      "metadata": {
        "id": "pQBhlHKx9nhx",
        "colab_type": "code",
        "colab": {}
      },
      "source": [
        "# Importing the required libraries.\n",
        "import tensorflow as tf\n",
        "import numpy as np\n",
        "import matplotlib.pyplot as plt\n",
        "from tensorflow.keras.preprocessing.text import Tokenizer\n",
        "from tensorflow.keras.preprocessing.sequence import pad_sequences"
      ],
      "execution_count": 1,
      "outputs": []
    },
    {
      "cell_type": "markdown",
      "metadata": {
        "id": "DhJTrs83J84F",
        "colab_type": "text"
      },
      "source": [
        "----\n",
        "<h3><b>Collecting the data</b></h3>\n",
        "\n",
        "<p><b>Data:</b></p><p>Our dataset contains a collection of Shakespeare Sonnets, the link for which is as follows: </br><a>https://storage.googleapis.com/laurencemoroney-blog.appspot.com/sonnets.txt</a></p>\n",
        "\n",
        "<b>Data sample:</b></br>\n",
        "<p><i>\n",
        "Come all ye maidens young and fair</br>\n",
        "And you that are blooming in your prime</br>\n",
        "Always beware and keep your garden fair</br>\n",
        "Let no man steal away your thyme</br>\n",
        "For thyme it is a precious thing</br>\n",
        "And thyme brings all things to my mind</br>\n",
        "</i></p>\n",
        "</br>"
      ]
    },
    {
      "cell_type": "code",
      "metadata": {
        "id": "EWFNGsKC-f8p",
        "colab_type": "code",
        "colab": {
          "base_uri": "https://localhost:8080/",
          "height": 306
        },
        "outputId": "4796946a-caa5-4759-930b-53c9a25b7eaf"
      },
      "source": [
        "# Collecting the text file containing the list of Irish Poems.\n",
        "!wget no-check-certificate \\\n",
        "https://storage.googleapis.com/laurencemoroney-blog.appspot.com/sonnets.txt \\\n",
        "-O /tmp/sonnets.txt"
      ],
      "execution_count": 2,
      "outputs": [
        {
          "output_type": "stream",
          "text": [
            "--2020-06-20 18:50:10--  http://no-check-certificate/\n",
            "Resolving no-check-certificate (no-check-certificate)... failed: Name or service not known.\n",
            "wget: unable to resolve host address ‘no-check-certificate’\n",
            "--2020-06-20 18:50:10--  https://storage.googleapis.com/laurencemoroney-blog.appspot.com/sonnets.txt\n",
            "Resolving storage.googleapis.com (storage.googleapis.com)... 108.177.119.128, 2a00:1450:4013:c05::80\n",
            "Connecting to storage.googleapis.com (storage.googleapis.com)|108.177.119.128|:443... connected.\n",
            "HTTP request sent, awaiting response... 200 OK\n",
            "Length: 93578 (91K) [text/plain]\n",
            "Saving to: ‘/tmp/sonnets.txt’\n",
            "\n",
            "\r/tmp/sonnets.txt      0%[                    ]       0  --.-KB/s               \r/tmp/sonnets.txt    100%[===================>]  91.38K  --.-KB/s    in 0.001s  \n",
            "\n",
            "2020-06-20 18:50:10 (123 MB/s) - ‘/tmp/sonnets.txt’ saved [93578/93578]\n",
            "\n",
            "FINISHED --2020-06-20 18:50:10--\n",
            "Total wall clock time: 0.3s\n",
            "Downloaded: 1 files, 91K in 0.001s (123 MB/s)\n"
          ],
          "name": "stdout"
        }
      ]
    },
    {
      "cell_type": "markdown",
      "metadata": {
        "id": "d99b-f_IadG4",
        "colab_type": "text"
      },
      "source": [
        "----\n",
        "<h3><b>Exploratory Data Analysis</b></h3>"
      ]
    },
    {
      "cell_type": "code",
      "metadata": {
        "id": "vDAPghICPFN4",
        "colab_type": "code",
        "colab": {
          "base_uri": "https://localhost:8080/",
          "height": 383
        },
        "outputId": "0b94b9b3-cc4f-4605-a43e-703749b04da8"
      },
      "source": [
        "# Counting the number of lines in our dataset.\n",
        "with open('/tmp/sonnets.txt') as file:\n",
        "    data = file.read().split('\\n')[:-1]\n",
        "    lines = len(data)\n",
        "print('Number of poem lines in our dataset:', lines)\n",
        "\n",
        "# Counting the number of unique words in our dataset.\n",
        "tokenizer = Tokenizer()\n",
        "tokenizer.fit_on_texts(data)\n",
        "words = len(tokenizer.word_index)\n",
        "print('Number of unique words in our dataset:', words)\n",
        "print()\n",
        "\n",
        "# Finding the minumum and maximum number of words in a sentence.\n",
        "data_tokenized = tokenizer.texts_to_sequences(data)\n",
        "lines_length = [len(sentence) for sentence in data_tokenized if len(sentence)>1]\n",
        "print('Minimum length of a sentence', min(lines_length))\n",
        "print('Maximum length of a sentence', max(lines_length))\n",
        "print()\n",
        "\n",
        "# Plotting a graph representing the words in different sentences.\n",
        "plt.title('Length of sentences')\n",
        "plt.hist(lines_length, bins=np.arange(5,13)-0.5)\n",
        "plt.xlim([4, 12])\n",
        "plt.show()"
      ],
      "execution_count": 3,
      "outputs": [
        {
          "output_type": "stream",
          "text": [
            "Number of poem lines in our dataset: 2158\n",
            "Number of unique words in our dataset: 3210\n",
            "\n",
            "Minimum length of a sentence 5\n",
            "Maximum length of a sentence 11\n",
            "\n"
          ],
          "name": "stdout"
        },
        {
          "output_type": "display_data",
          "data": {
            "image/png": "[encoded data removed]",
            "text/plain": [
              "<Figure size 432x288 with 1 Axes>"
            ]
          },
          "metadata": {
            "tags": [],
            "needs_background": "light"
          }
        }
      ]
    },
    {
      "cell_type": "markdown",
      "metadata": {
        "id": "c1fMOnZWaAXH",
        "colab_type": "text"
      },
      "source": [
        "-----\n",
        "<h3><b>Preparing the Data</b></h3>\n",
        "<p><b>Steps:</b></p>\n",
        "<ol>\n",
        "<li>Tokenizing the data, using a word tokenizer</li>\n",
        "<li>Create n-gram sequences</li>\n",
        "<li>Pre-padding the sentences to make them of equal lengths</li>\n",
        "<li>Spliting the last word from each sentence to form label</li>\n",
        "</ol>\n",
        "\n",
        "Consider this example:<br>\n",
        "* Sentence : 'Come all ye maidens young and fair'</br>\n",
        "* Step-1 : </br>\n",
        " [51, 12, 96, 1217, 48, 2, 69]\n",
        "* Step-2 : </br>\n",
        " [51, 12]</br>\n",
        " [51, 12, 96]</br>\n",
        " [51, 12, 96, 1217]</br>\n",
        " [51, 12, 96, 1217, 48]</br>\n",
        " [51, 12, 96, 1217, 48, 2]</br>\n",
        " [51, 12, 96, 1217, 48, 2, 69]</br>\n",
        "* Step-3 : </br>\n",
        "[ 0, 0, 0, 0, 0, 0, 0, 0, 0, 0, 0, 0, 0, 0, 51, 12]</br>\n",
        "[ 0, 0, 0, 0, 0, 0, 0, 0, 0, 0, 0, 0, 0, 51, 12, 96]</br>\n",
        "[ 0, 0, 0, 0, 0, 0, 0, 0, 0, 0, 0, 0, 51, 12, 96, 1217]</br>\n",
        "[ 0, 0, 0, 0, 0, 0, 0, 0, 0, 0, 0, 51, 12, 96, 1217, 48]</br>\n",
        "[ 0, 0, 0, 0, 0, 0, 0, 0, 0, 0, 51, 12, 96, 1217, 48, 2]</br>\n",
        "[ 0, 0, 0, 0, 0, 0, 0, 0, 0, 51, 12, 96, 1217, 48, 2, 69]</br>\n",
        "* Step-4 : </br>\n",
        "Final training sequences and labels: </br>\n",
        "[ 0, 0, 0, 0, 0, 0, 0, 0, 0, 0, 0, 0, 0, 0, 51]&nbsp;&nbsp;&nbsp;&nbsp;&nbsp;&nbsp;&nbsp;&nbsp;&nbsp;&nbsp;&nbsp;&nbsp;&nbsp;&nbsp;&nbsp;&nbsp;[12]</br>\n",
        "[ 0, 0, 0, 0, 0, 0, 0, 0, 0, 0, 0, 0, 0, 51, 12]&nbsp;&nbsp;&nbsp;&nbsp;&nbsp;&nbsp;&nbsp;&nbsp;&nbsp;&nbsp;&nbsp;&nbsp;&nbsp;&nbsp;[96]</br>\n",
        "[ 0, 0, 0, 0, 0, 0, 0, 0, 0, 0, 0, 0, 51, 12, 96]&nbsp;&nbsp;&nbsp;&nbsp;&nbsp;&nbsp;&nbsp;&nbsp;&nbsp;&nbsp;&nbsp;&nbsp;[1217]</br>\n",
        "[ 0, 0, 0, 0, 0, 0, 0, 0, 0, 0, 0, 51, 12, 96, 1217]&nbsp;&nbsp;&nbsp;&nbsp;&nbsp;[48]</br>\n",
        "[ 0, 0, 0, 0, 0, 0, 0, 0, 0, 0, 51, 12, 96, 1217, 48]&nbsp;&nbsp;&nbsp;[2]</br>\n",
        "[ 0, 0, 0, 0, 0, 0, 0, 0, 0, 51, 12, 96, 1217, 48, 2]&nbsp;&nbsp;&nbsp;[69]</br>"
      ]
    },
    {
      "cell_type": "code",
      "metadata": {
        "id": "ZF_8_pcGBI2l",
        "colab_type": "code",
        "colab": {}
      },
      "source": [
        "# Opening the text file containing the Shakespeare Sonnets.\n",
        "with open('/tmp/sonnets.txt') as file:\n",
        "    data = file.read().split('\\n')[:-1]\n",
        "data = [sentence for sentence in data if len(sentence.split())>1]\n",
        "\n",
        "# Tokenizing the data, using word tokenizer.\n",
        "tokenizer = Tokenizer()\n",
        "tokenizer.fit_on_texts(data)\n",
        "data_tokenized = tokenizer.texts_to_sequences(data)\n",
        "\n",
        "# Creating the n-gram sequences.\n",
        "training_sequences = []\n",
        "for sequence in data_tokenized:\n",
        "    for i in range(2,len(sequence)+1):\n",
        "        training_sequences.append(sequence[:i])\n",
        "\n",
        "# Pre-padding the data with zeros.\n",
        "data_padded = pad_sequences(training_sequences)\n",
        "\n",
        "# Preparing the training data.\n",
        "x_train, y_train = data_padded[:,:-1], data_padded[:,-1]"
      ],
      "execution_count": 4,
      "outputs": []
    },
    {
      "cell_type": "markdown",
      "metadata": {
        "id": "u-jmOcJnVY3a",
        "colab_type": "text"
      },
      "source": [
        "----\n",
        "<h3><b>Training the model</b></h3>\n",
        "<p>We are using a Sequential model with the following layers:</p>\n",
        "<ol>\n",
        "<li>Embedding</li>\n",
        "<li>Bidirectional LSTM</li>\n",
        "<li>Dropout</li>\n",
        "<li>LSTM</li>\n",
        "<li>Dense</li>\n",
        "<li>Dense</li>\n",
        "</ol>\n",
        "\n",
        "<p>We are also using the following parameters:</p>\n",
        "<ul>\n",
        "<li>vocab_size = len(tokenizer.word_index) + 1</li>\n",
        "<li>wv_dims = 100</li>\n",
        "<li>input_length = x_train.shape[1]</li>\n",
        "<li>dropout_rate = 0.2</li>\n",
        "<li>lstm_units = 128</li>\n",
        "<li>regularization_rate = 0.01</li>\n",
        "<li>epochs = 60</li>\n",
        "</ul>"
      ]
    },
    {
      "cell_type": "code",
      "metadata": {
        "id": "V2Y76veBgmLJ",
        "colab_type": "code",
        "colab": {}
      },
      "source": [
        "# Setting the parameters for our model.\n",
        "vocab_size = len(tokenizer.word_index) + 1\n",
        "wv_dims = 100\n",
        "input_length = x_train.shape[1]\n",
        "dropout_rate = 0.2\n",
        "lstm_units = 128\n",
        "regularization_rate = 0.01\n",
        "epochs = 60"
      ],
      "execution_count": 5,
      "outputs": []
    },
    {
      "cell_type": "code",
      "metadata": {
        "id": "trFFZ0k6F6xX",
        "colab_type": "code",
        "colab": {
          "base_uri": "https://localhost:8080/",
          "height": 1000
        },
        "outputId": "abac7d4d-bc41-46da-875b-a1920dfd4c27"
      },
      "source": [
        "# Building a sequential model with Bidirectional LSTM and LSTM layers.\n",
        "model = tf.keras.Sequential()\n",
        "model.add(tf.keras.layers.Embedding(vocab_size, wv_dims, input_length=input_length))\n",
        "model.add(tf.keras.layers.Bidirectional(tf.keras.layers.LSTM(lstm_units, return_sequences=True)))\n",
        "model.add(tf.keras.layers.Dropout(dropout_rate))\n",
        "model.add(tf.keras.layers.LSTM(lstm_units))\n",
        "model.add(tf.keras.layers.Dense(vocab_size//4, activation='relu', \n",
        "                                activity_regularizer=tf.keras.regularizers.l2(regularization_rate)))\n",
        "model.add(tf.keras.layers.Dense(vocab_size, activation='softmax'))\n",
        "\n",
        "# Printing the summary of our model.\n",
        "model.summary()\n",
        "\n",
        "# Compiling our model.\n",
        "model.compile(optimizer='adam', loss='sparse_categorical_crossentropy', metrics=['accuracy'])\n",
        "\n",
        "# Finally, training the model.\n",
        "history = model.fit(x_train, y_train, epochs=epochs)"
      ],
      "execution_count": 6,
      "outputs": [
        {
          "output_type": "stream",
          "text": [
            "Model: \"sequential\"\n",
            "_________________________________________________________________\n",
            "Layer (type)                 Output Shape              Param #   \n",
            "=================================================================\n",
            "embedding (Embedding)        (None, 10, 100)           321000    \n",
            "_________________________________________________________________\n",
            "bidirectional (Bidirectional (None, 10, 256)           234496    \n",
            "_________________________________________________________________\n",
            "dropout (Dropout)            (None, 10, 256)           0         \n",
            "_________________________________________________________________\n",
            "lstm_1 (LSTM)                (None, 128)               197120    \n",
            "_________________________________________________________________\n",
            "dense (Dense)                (None, 802)               103458    \n",
            "_________________________________________________________________\n",
            "dense_1 (Dense)              (None, 3210)              2577630   \n",
            "=================================================================\n",
            "Total params: 3,433,704\n",
            "Trainable params: 3,433,704\n",
            "Non-trainable params: 0\n",
            "_________________________________________________________________\n",
            "Epoch 1/60\n",
            "484/484 [==============================] - 5s 9ms/step - loss: 6.8720 - accuracy: 0.0228\n",
            "Epoch 2/60\n",
            "484/484 [==============================] - 4s 9ms/step - loss: 6.4327 - accuracy: 0.0322\n",
            "Epoch 3/60\n",
            "484/484 [==============================] - 5s 9ms/step - loss: 6.2354 - accuracy: 0.0362\n",
            "Epoch 4/60\n",
            "484/484 [==============================] - 5s 9ms/step - loss: 6.0230 - accuracy: 0.0445\n",
            "Epoch 5/60\n",
            "484/484 [==============================] - 5s 9ms/step - loss: 5.7799 - accuracy: 0.0559\n",
            "Epoch 6/60\n",
            "484/484 [==============================] - 5s 9ms/step - loss: 5.5212 - accuracy: 0.0701\n",
            "Epoch 7/60\n",
            "484/484 [==============================] - 5s 9ms/step - loss: 5.2575 - accuracy: 0.0838\n",
            "Epoch 8/60\n",
            "484/484 [==============================] - 4s 9ms/step - loss: 5.0049 - accuracy: 0.0978\n",
            "Epoch 9/60\n",
            "484/484 [==============================] - 4s 9ms/step - loss: 4.7515 - accuracy: 0.1152\n",
            "Epoch 10/60\n",
            "484/484 [==============================] - 4s 9ms/step - loss: 4.4834 - accuracy: 0.1391\n",
            "Epoch 11/60\n",
            "484/484 [==============================] - 4s 9ms/step - loss: 4.1882 - accuracy: 0.1692\n",
            "Epoch 12/60\n",
            "484/484 [==============================] - 5s 9ms/step - loss: 3.8658 - accuracy: 0.2079\n",
            "Epoch 13/60\n",
            "484/484 [==============================] - 5s 9ms/step - loss: 3.5270 - accuracy: 0.2685\n",
            "Epoch 14/60\n",
            "484/484 [==============================] - 4s 9ms/step - loss: 3.1914 - accuracy: 0.3399\n",
            "Epoch 15/60\n",
            "484/484 [==============================] - 5s 9ms/step - loss: 2.8744 - accuracy: 0.4143\n",
            "Epoch 16/60\n",
            "484/484 [==============================] - 5s 9ms/step - loss: 2.6031 - accuracy: 0.4764\n",
            "Epoch 17/60\n",
            "484/484 [==============================] - 5s 9ms/step - loss: 2.3469 - accuracy: 0.5426\n",
            "Epoch 18/60\n",
            "484/484 [==============================] - 5s 9ms/step - loss: 2.1340 - accuracy: 0.5958\n",
            "Epoch 19/60\n",
            "484/484 [==============================] - 5s 9ms/step - loss: 1.9433 - accuracy: 0.6475\n",
            "Epoch 20/60\n",
            "484/484 [==============================] - 5s 9ms/step - loss: 1.7754 - accuracy: 0.6863\n",
            "Epoch 21/60\n",
            "484/484 [==============================] - 4s 9ms/step - loss: 1.6311 - accuracy: 0.7217\n",
            "Epoch 22/60\n",
            "484/484 [==============================] - 5s 9ms/step - loss: 1.5052 - accuracy: 0.7467\n",
            "Epoch 23/60\n",
            "484/484 [==============================] - 5s 9ms/step - loss: 1.3933 - accuracy: 0.7723\n",
            "Epoch 24/60\n",
            "484/484 [==============================] - 5s 9ms/step - loss: 1.3031 - accuracy: 0.7910\n",
            "Epoch 25/60\n",
            "484/484 [==============================] - 4s 9ms/step - loss: 1.2251 - accuracy: 0.8011\n",
            "Epoch 26/60\n",
            "484/484 [==============================] - 4s 9ms/step - loss: 1.1570 - accuracy: 0.8162\n",
            "Epoch 27/60\n",
            "484/484 [==============================] - 4s 9ms/step - loss: 1.0971 - accuracy: 0.8221\n",
            "Epoch 28/60\n",
            "484/484 [==============================] - 5s 9ms/step - loss: 1.0476 - accuracy: 0.8285\n",
            "Epoch 29/60\n",
            "484/484 [==============================] - 4s 9ms/step - loss: 1.0024 - accuracy: 0.8346\n",
            "Epoch 30/60\n",
            "484/484 [==============================] - 4s 9ms/step - loss: 0.9673 - accuracy: 0.8382\n",
            "Epoch 31/60\n",
            "484/484 [==============================] - 4s 9ms/step - loss: 0.9317 - accuracy: 0.8401\n",
            "Epoch 32/60\n",
            "484/484 [==============================] - 4s 9ms/step - loss: 0.8991 - accuracy: 0.8437\n",
            "Epoch 33/60\n",
            "484/484 [==============================] - 5s 10ms/step - loss: 0.8749 - accuracy: 0.8443\n",
            "Epoch 34/60\n",
            "484/484 [==============================] - 5s 10ms/step - loss: 0.8489 - accuracy: 0.8465\n",
            "Epoch 35/60\n",
            "484/484 [==============================] - 5s 9ms/step - loss: 0.8288 - accuracy: 0.8477\n",
            "Epoch 36/60\n",
            "484/484 [==============================] - 4s 9ms/step - loss: 0.8105 - accuracy: 0.8475\n",
            "Epoch 37/60\n",
            "484/484 [==============================] - 4s 9ms/step - loss: 0.7952 - accuracy: 0.8469\n",
            "Epoch 38/60\n",
            "484/484 [==============================] - 4s 9ms/step - loss: 0.7755 - accuracy: 0.8487\n",
            "Epoch 39/60\n",
            "484/484 [==============================] - 5s 9ms/step - loss: 0.7585 - accuracy: 0.8500\n",
            "Epoch 40/60\n",
            "484/484 [==============================] - 4s 9ms/step - loss: 0.7413 - accuracy: 0.8512\n",
            "Epoch 41/60\n",
            "484/484 [==============================] - 5s 9ms/step - loss: 0.7324 - accuracy: 0.8514\n",
            "Epoch 42/60\n",
            "484/484 [==============================] - 5s 9ms/step - loss: 0.7176 - accuracy: 0.8503\n",
            "Epoch 43/60\n",
            "484/484 [==============================] - 5s 9ms/step - loss: 0.7079 - accuracy: 0.8508\n",
            "Epoch 44/60\n",
            "484/484 [==============================] - 5s 9ms/step - loss: 0.7017 - accuracy: 0.8507\n",
            "Epoch 45/60\n",
            "484/484 [==============================] - 5s 9ms/step - loss: 0.6889 - accuracy: 0.8514\n",
            "Epoch 46/60\n",
            "484/484 [==============================] - 4s 9ms/step - loss: 0.6824 - accuracy: 0.8511\n",
            "Epoch 47/60\n",
            "484/484 [==============================] - 5s 9ms/step - loss: 0.6715 - accuracy: 0.8522\n",
            "Epoch 48/60\n",
            "484/484 [==============================] - 5s 9ms/step - loss: 0.6618 - accuracy: 0.8511\n",
            "Epoch 49/60\n",
            "484/484 [==============================] - 4s 9ms/step - loss: 0.6581 - accuracy: 0.8516\n",
            "Epoch 50/60\n",
            "484/484 [==============================] - 5s 9ms/step - loss: 0.6464 - accuracy: 0.8514\n",
            "Epoch 51/60\n",
            "484/484 [==============================] - 5s 9ms/step - loss: 0.6408 - accuracy: 0.8520\n",
            "Epoch 52/60\n",
            "484/484 [==============================] - 4s 9ms/step - loss: 0.6358 - accuracy: 0.8509\n",
            "Epoch 53/60\n",
            "484/484 [==============================] - 4s 9ms/step - loss: 0.6326 - accuracy: 0.8503\n",
            "Epoch 54/60\n",
            "484/484 [==============================] - 5s 9ms/step - loss: 0.6265 - accuracy: 0.8524\n",
            "Epoch 55/60\n",
            "484/484 [==============================] - 4s 9ms/step - loss: 0.6214 - accuracy: 0.8522\n",
            "Epoch 56/60\n",
            "484/484 [==============================] - 5s 9ms/step - loss: 0.6109 - accuracy: 0.8526\n",
            "Epoch 57/60\n",
            "484/484 [==============================] - 4s 9ms/step - loss: 0.6044 - accuracy: 0.8536\n",
            "Epoch 58/60\n",
            "484/484 [==============================] - 4s 9ms/step - loss: 0.6026 - accuracy: 0.8533\n",
            "Epoch 59/60\n",
            "484/484 [==============================] - 5s 9ms/step - loss: 0.5995 - accuracy: 0.8519\n",
            "Epoch 60/60\n",
            "484/484 [==============================] - 5s 9ms/step - loss: 0.5972 - accuracy: 0.8522\n"
          ],
          "name": "stdout"
        }
      ]
    },
    {
      "cell_type": "markdown",
      "metadata": {
        "id": "f4OC-lAPh0fS",
        "colab_type": "text"
      },
      "source": [
        "----\n",
        "<h3><b>Plotting the training accuracy and training loss</b></h3>"
      ]
    },
    {
      "cell_type": "code",
      "metadata": {
        "id": "pwJrPlXPHNBC",
        "colab_type": "code",
        "colab": {
          "base_uri": "https://localhost:8080/",
          "height": 334
        },
        "outputId": "7cf386af-f644-4a4d-f6c2-193284f35e38"
      },
      "source": [
        "# Getting the values of accuracy and loss from history.\n",
        "accuracy = np.array(history.history['accuracy'])*100\n",
        "loss = history.history['loss']\n",
        "epochs = range(len(accuracy))\n",
        "\n",
        "# Plotting the graphs.\n",
        "plt.figure(figsize=(16,5))\n",
        "plt.subplot(121)\n",
        "plt.plot(epochs, accuracy, label='Accuracy')\n",
        "plt.ylabel('Accuracy')\n",
        "plt.xlabel('Epochs')\n",
        "plt.legend()\n",
        "plt.subplot(122)\n",
        "plt.plot(epochs, loss, label='Loss')\n",
        "plt.ylabel('Loss')\n",
        "plt.xlabel('Epochs')\n",
        "plt.legend()\n",
        "plt.show()"
      ],
      "execution_count": 7,
      "outputs": [
        {
          "output_type": "display_data",
          "data": {
            "image/png": "[encoded data removed]",
            "text/plain": [
              "<Figure size 1152x360 with 2 Axes>"
            ]
          },
          "metadata": {
            "tags": [],
            "needs_background": "light"
          }
        }
      ]
    },
    {
      "cell_type": "markdown",
      "metadata": {
        "id": "p7mHI4XmmOe-",
        "colab_type": "text"
      },
      "source": [
        "----\n",
        "<h3><b>Generate the text using the learned model</b></h3>"
      ]
    },
    {
      "cell_type": "code",
      "metadata": {
        "id": "NM_sl2II82f_",
        "colab_type": "code",
        "colab": {}
      },
      "source": [
        "def generate_text(text, next_words):\n",
        "    for _ in range(next_words):\n",
        "        tokenized_string = tokenizer.texts_to_sequences([text])[0]\n",
        "        token_list = pad_sequences([tokenized_string], maxlen=x_train.shape[1])\n",
        "        predicted = np.argmax(model.predict(token_list, verbose=0), axis=-1)\n",
        "        output_word = \"\"\n",
        "        for word, index in tokenizer.word_index.items():\n",
        "            if index == predicted:\n",
        "                output_word = word\n",
        "                break\n",
        "        text += \" \" + output_word\n",
        "    return text"
      ],
      "execution_count": 8,
      "outputs": []
    },
    {
      "cell_type": "markdown",
      "metadata": {
        "id": "fxA6YJ7DmYtM",
        "colab_type": "text"
      },
      "source": [
        "<p><b>Example-1</b></p>"
      ]
    },
    {
      "cell_type": "code",
      "metadata": {
        "id": "4llKtJ3G-G4B",
        "colab_type": "code",
        "colab": {
          "base_uri": "https://localhost:8080/",
          "height": 54
        },
        "outputId": "2a023b16-9312-4d17-effd-f2438a09839f"
      },
      "source": [
        "user_input = 'Oh once great men have fallen'\n",
        "next_words = 50\n",
        "generate_text(user_input, next_words)"
      ],
      "execution_count": 9,
      "outputs": [
        {
          "output_type": "execute_result",
          "data": {
            "text/plain": [
              "\"Oh once great men have fallen with this flatter'd my life control her treasure so lie to thee with me might lie to be my true sight and me shines so bad in seen afloat wanting face to show it love with hate thee as me alone nearly in hue woe pride ' add to misuse\""
            ]
          },
          "metadata": {
            "tags": []
          },
          "execution_count": 9
        }
      ]
    },
    {
      "cell_type": "markdown",
      "metadata": {
        "id": "QlyNpzEPmg_J",
        "colab_type": "text"
      },
      "source": [
        "<p><b>Example-2</b></p>"
      ]
    },
    {
      "cell_type": "code",
      "metadata": {
        "id": "68bQfzkvHQ1Q",
        "colab_type": "code",
        "colab": {
          "base_uri": "https://localhost:8080/",
          "height": 54
        },
        "outputId": "926ab3cb-89e6-426a-89f1-004f1cdb7d7f"
      },
      "source": [
        "user_input = 'help me jesus, you are my only hope'\n",
        "next_words = 50\n",
        "generate_text(user_input, next_words)"
      ],
      "execution_count": 11,
      "outputs": [
        {
          "output_type": "execute_result",
          "data": {
            "text/plain": [
              "\"help me jesus, you are my only hope new seen ' ' shows me copy in thine own poor love's might know dwell in effect clearer night light lie affords night doth lie with my view to me with stand thou dost advance slain ' shows me young to dull behind a gilded tomb the night night doth\""
            ]
          },
          "metadata": {
            "tags": []
          },
          "execution_count": 11
        }
      ]
    },
    {
      "cell_type": "markdown",
      "metadata": {
        "id": "-3WCTSWvmjXg",
        "colab_type": "text"
      },
      "source": [
        "<p><b>Example-3</b></p>"
      ]
    },
    {
      "cell_type": "code",
      "metadata": {
        "id": "3uglNHVi_Ylq",
        "colab_type": "code",
        "colab": {
          "base_uri": "https://localhost:8080/",
          "height": 54
        },
        "outputId": "6e354bbd-22c0-45e9-fa07-605b91ea9861"
      },
      "source": [
        "user_input = ''\n",
        "next_words = 50\n",
        "generate_text(user_input, next_words)"
      ],
      "execution_count": 10,
      "outputs": [
        {
          "output_type": "execute_result",
          "data": {
            "text/plain": [
              "\" is it thy will thy image should keep open part hid days shine bright ' had skill or dwell and see forth me doth live old part new treasure love seen afloat afloat tongue extreme desert his sickle hour invocate survey survey ' go ' defaced new decay alone are\""
            ]
          },
          "metadata": {
            "tags": []
          },
          "execution_count": 10
        }
      ]
    },
    {
      "cell_type": "markdown",
      "metadata": {
        "id": "AwASsnS5nciO",
        "colab_type": "text"
      },
      "source": [
        "----\n",
        "<h3><b>Conclusions</b></h3>\n",
        "\n",
        "* On retraining the model we can get different results for the same input.</br>\n",
        "\n",
        "<b>For example, Generated text:</b></br>\n",
        "<p>Is it thy will thy image should keep open part hid days shine bright ' had skill or dwell and see forth me doth live old part new treasure love seen afloat afloat tongue extreme desert his sickle hour invocate survey survey ' go ' defaced new decay alone are you so dignifies his story pride of new lips shall show me wrong night days</p>\n",
        "\n",
        "<b>Some points to note:</b>\n",
        "* These results are quite good, the text seems to make some sense as well as it seems to be written by the great William Shakespeare himself.\n",
        "* Though, these generated texts are not perfect, and can have some improvement.\n",
        "* We actually need more training data, and much more computation power, to generate more better texts.\n",
        "---"
      ]
    }
  ]
}