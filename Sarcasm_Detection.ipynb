{
  "nbformat": 4,
  "nbformat_minor": 0,
  "metadata": {
    "colab": {
      "name": "Sarcasm Detection.ipynb",
      "provenance": []
    },
    "kernelspec": {
      "name": "python3",
      "display_name": "Python 3"
    },
    "accelerator": "GPU"
  },
  "cells": [
    {
      "cell_type": "code",
      "metadata": {
        "id": "sMJSi7f2LC1c",
        "colab_type": "code",
        "colab": {}
      },
      "source": [
        "# Importing the required libraries.\n",
        "\n",
        "import json\n",
        "import random\n",
        "import numpy as np\n",
        "import matplotlib.pyplot as plt\n",
        "\n",
        "import tensorflow as tf\n",
        "from tensorflow.keras.preprocessing.text import Tokenizer\n",
        "from tensorflow.keras.preprocessing.sequence import pad_sequences"
      ],
      "execution_count": 0,
      "outputs": []
    },
    {
      "cell_type": "code",
      "metadata": {
        "id": "1vxrZe2WKKhB",
        "colab_type": "code",
        "colab": {
          "base_uri": "https://localhost:8080/",
          "height": 204
        },
        "outputId": "027db913-0a23-4a5f-f1d4-d846d35e473e"
      },
      "source": [
        "# Downloading the dataset for sarcasm detection.\n",
        "\n",
        "!wget --no-check-certificate \\\n",
        "https://storage.googleapis.com/laurencemoroney-blog.appspot.com/sarcasm.json \\\n",
        "-O /tmp/sarcasm.json"
      ],
      "execution_count": 2,
      "outputs": [
        {
          "output_type": "stream",
          "text": [
            "--2020-06-16 22:26:14--  https://storage.googleapis.com/laurencemoroney-blog.appspot.com/sarcasm.json\n",
            "Resolving storage.googleapis.com (storage.googleapis.com)... 172.217.194.128, 2404:6800:4003:c04::80\n",
            "Connecting to storage.googleapis.com (storage.googleapis.com)|172.217.194.128|:443... connected.\n",
            "HTTP request sent, awaiting response... 200 OK\n",
            "Length: 5643545 (5.4M) [application/json]\n",
            "Saving to: ‘/tmp/sarcasm.json’\n",
            "\n",
            "\r/tmp/sarcasm.json     0%[                    ]       0  --.-KB/s               \r/tmp/sarcasm.json   100%[===================>]   5.38M  --.-KB/s    in 0.05s   \n",
            "\n",
            "2020-06-16 22:26:15 (109 MB/s) - ‘/tmp/sarcasm.json’ saved [5643545/5643545]\n",
            "\n"
          ],
          "name": "stdout"
        }
      ]
    },
    {
      "cell_type": "code",
      "metadata": {
        "id": "9LiW2YNeLAhm",
        "colab_type": "code",
        "colab": {
          "base_uri": "https://localhost:8080/",
          "height": 136
        },
        "outputId": "c5c4eedc-6bfc-4119-953e-6bd844ed64cd"
      },
      "source": [
        "# Loading the dataset.\n",
        "\n",
        "file = open('/tmp/sarcasm.json')\n",
        "data = json.load(file)\n",
        "file.close()\n",
        "\n",
        "print(type(data), len(data))\n",
        "data[:2]"
      ],
      "execution_count": 3,
      "outputs": [
        {
          "output_type": "stream",
          "text": [
            "<class 'list'> 26709\n"
          ],
          "name": "stdout"
        },
        {
          "output_type": "execute_result",
          "data": {
            "text/plain": [
              "[{'article_link': 'https://www.huffingtonpost.com/entry/versace-black-code_us_5861fbefe4b0de3a08f600d5',\n",
              "  'headline': \"former versace store clerk sues over secret 'black code' for minority shoppers\",\n",
              "  'is_sarcastic': 0},\n",
              " {'article_link': 'https://www.huffingtonpost.com/entry/roseanne-revival-review_us_5ab3a497e4b054d118e04365',\n",
              "  'headline': \"the 'roseanne' revival catches up to our thorny political mood, for better and worse\",\n",
              "  'is_sarcastic': 0}]"
            ]
          },
          "metadata": {
            "tags": []
          },
          "execution_count": 3
        }
      ]
    },
    {
      "cell_type": "code",
      "metadata": {
        "id": "SHe0nugvL5Ik",
        "colab_type": "code",
        "colab": {}
      },
      "source": [
        "# Building the training and testing datasets.\n",
        "\n",
        "random.shuffle(data)\n",
        "\n",
        "sentences, labels = [], []\n",
        "for temp in data:\n",
        "    sentences.append(temp['headline'])\n",
        "    labels.append(temp['is_sarcastic'])\n",
        "\n",
        "training_size = 20000\n",
        "train_sentences, train_labels = sentences[:training_size], labels[:training_size]\n",
        "test_sentences, test_labels = sentences[training_size:], labels[training_size:]\n",
        "\n",
        "train_labels, test_labels = np.array(train_labels), np.array(test_labels)"
      ],
      "execution_count": 0,
      "outputs": []
    },
    {
      "cell_type": "code",
      "metadata": {
        "id": "izQd9UHXk5nB",
        "colab_type": "code",
        "colab": {
          "base_uri": "https://localhost:8080/",
          "height": 489
        },
        "outputId": "4b3ffe5a-a5eb-416c-d9b0-6aac834da318"
      },
      "source": [
        "# Exploratory Data Analysis.\n",
        "\n",
        "train_sentences_length, test_sentences_length = [], []\n",
        "for sentence in train_sentences:\n",
        "    train_sentences_length.append(len(sentence))\n",
        "for sentence in test_sentences:\n",
        "    test_sentences_length.append(len(sentence))\n",
        "\n",
        "print('Minimum length of a sentence in training data:', min(train_sentences_length))\n",
        "print('Maximum length of a sentence in training data:', max(train_sentences_length))\n",
        "print()\n",
        "print('Minimum length of a sentence in testing data:', min(test_sentences_length))\n",
        "print('Maximum length of a sentence in testing data:', max(test_sentences_length))\n",
        "\n",
        "plt.figure(figsize=(10,6))\n",
        "bins = [10*i for i in range(15)]\n",
        "plt.hist(train_sentences_length, bins=bins, label='Train sentences')\n",
        "plt.hist(test_sentences_length, bins=bins, label='Test sentences')\n",
        "plt.xlabel('Length of sentences')\n",
        "plt.ylabel('Number of sentences')\n",
        "plt.title('Histogram for length of sentences')\n",
        "plt.legend()\n",
        "plt.show()"
      ],
      "execution_count": 5,
      "outputs": [
        {
          "output_type": "stream",
          "text": [
            "Minimum length of a sentence in training data: 7\n",
            "Maximum length of a sentence in training data: 237\n",
            "\n",
            "Minimum length of a sentence in testing data: 9\n",
            "Maximum length of a sentence in testing data: 254\n"
          ],
          "name": "stdout"
        },
        {
          "output_type": "display_data",
          "data": {
            "image/png": "[encoded data removed]",
            "text/plain": [
              "<Figure size 720x432 with 1 Axes>"
            ]
          },
          "metadata": {
            "tags": [],
            "needs_background": "light"
          }
        }
      ]
    },
    {
      "cell_type": "code",
      "metadata": {
        "id": "XkV0a-sFs_Qo",
        "colab_type": "code",
        "colab": {}
      },
      "source": [
        "# Function to build a model\n",
        "\n",
        "def build_model(train_sentences, train_labels, test_sentences, test_labels, vocab_size=False, maxlen=100, \n",
        "                truncating='post', vector_dim=32, use_dropout=True, dropout_rate=0.5, average=False, epochs=5):\n",
        "\n",
        "    # Tokenizing and padding the data.\n",
        "    if vocab_size==False:\n",
        "        tokenizer = Tokenizer(oov_token='<OOV>')\n",
        "    else:\n",
        "        tokenizer = Tokenizer(num_words=vocab_size, oov_token='<OOV>')\n",
        "    tokenizer.fit_on_texts(train_sentences)\n",
        "    vocab_size = len(tokenizer.word_index)\n",
        "    print('Vocabulary size:', vocab_size)\n",
        "    train_sentences_tokenized = tokenizer.texts_to_sequences(train_sentences)\n",
        "    test_sentences_tokenized = tokenizer.texts_to_sequences(test_sentences)\n",
        "    train_sentences_padded = pad_sequences(train_sentences_tokenized, maxlen=maxlen, truncating=truncating)\n",
        "    test_sentences_padded = pad_sequences(test_sentences_tokenized, maxlen=maxlen, truncating=truncating)\n",
        "\n",
        "    def add_dense(neurons):\n",
        "        return tf.keras.layers.Dense(neurons, activation='relu')\n",
        "    \n",
        "    def add_flatten(average):\n",
        "        if average:\n",
        "            return tf.keras.layers.GlobalAveragePooling1D()\n",
        "        return tf.keras.layers.Flatten()\n",
        "\n",
        "    # Building a Neural Net model with Embedding layer.\n",
        "    model = tf.keras.Sequential([\n",
        "        tf.keras.layers.Embedding(vocab_size, vector_dim, input_length=maxlen),\n",
        "        add_flatten(average),\n",
        "        tf.keras.layers.Dropout(dropout_rate),\n",
        "        tf.keras.layers.Dense(512, activation='relu'),\n",
        "        tf.keras.layers.Dropout(dropout_rate),\n",
        "        tf.keras.layers.Dense(64, activation='relu'),\n",
        "        tf.keras.layers.Dense(1, activation='sigmoid')\n",
        "    ])\n",
        "    \n",
        "    model.summary()\n",
        "    model.compile(optimizer='adam', loss='binary_crossentropy', metrics=['accuracy'])\n",
        "    model.fit(train_sentences_padded, train_labels, \n",
        "              validation_data=(test_sentences_padded, test_labels), epochs=epochs)\n",
        "    return model"
      ],
      "execution_count": 0,
      "outputs": []
    },
    {
      "cell_type": "code",
      "metadata": {
        "id": "JByTSDU0YfYF",
        "colab_type": "code",
        "colab": {
          "base_uri": "https://localhost:8080/",
          "height": 598
        },
        "outputId": "23050179-d430-4396-c721-e4b6df68ea25"
      },
      "source": [
        "model1 = build_model(train_sentences, train_labels, test_sentences, test_labels, \n",
        "                     average=False, vocab_size=20000, truncating='pre')"
      ],
      "execution_count": 7,
      "outputs": [
        {
          "output_type": "stream",
          "text": [
            "Vocabulary size: 25717\n",
            "Model: \"sequential\"\n",
            "_________________________________________________________________\n",
            "Layer (type)                 Output Shape              Param #   \n",
            "=================================================================\n",
            "embedding (Embedding)        (None, 100, 32)           822944    \n",
            "_________________________________________________________________\n",
            "flatten (Flatten)            (None, 3200)              0         \n",
            "_________________________________________________________________\n",
            "dropout (Dropout)            (None, 3200)              0         \n",
            "_________________________________________________________________\n",
            "dense (Dense)                (None, 512)               1638912   \n",
            "_________________________________________________________________\n",
            "dropout_1 (Dropout)          (None, 512)               0         \n",
            "_________________________________________________________________\n",
            "dense_1 (Dense)              (None, 64)                32832     \n",
            "_________________________________________________________________\n",
            "dense_2 (Dense)              (None, 1)                 65        \n",
            "=================================================================\n",
            "Total params: 2,494,753\n",
            "Trainable params: 2,494,753\n",
            "Non-trainable params: 0\n",
            "_________________________________________________________________\n",
            "Epoch 1/5\n",
            "625/625 [==============================] - 5s 8ms/step - loss: 0.4722 - accuracy: 0.7603 - val_loss: 0.3393 - val_accuracy: 0.8504\n",
            "Epoch 2/5\n",
            "625/625 [==============================] - 5s 8ms/step - loss: 0.2350 - accuracy: 0.9075 - val_loss: 0.3299 - val_accuracy: 0.8615\n",
            "Epoch 3/5\n",
            "625/625 [==============================] - 5s 9ms/step - loss: 0.1245 - accuracy: 0.9530 - val_loss: 0.3934 - val_accuracy: 0.8577\n",
            "Epoch 4/5\n",
            "625/625 [==============================] - 5s 8ms/step - loss: 0.0719 - accuracy: 0.9740 - val_loss: 0.4381 - val_accuracy: 0.8493\n",
            "Epoch 5/5\n",
            "625/625 [==============================] - 5s 8ms/step - loss: 0.0484 - accuracy: 0.9826 - val_loss: 0.4956 - val_accuracy: 0.8556\n"
          ],
          "name": "stdout"
        }
      ]
    },
    {
      "cell_type": "code",
      "metadata": {
        "id": "PoqmDGGkN4kG",
        "colab_type": "code",
        "colab": {
          "base_uri": "https://localhost:8080/",
          "height": 598
        },
        "outputId": "22de22c3-bb94-4af6-9818-2b2d744174cf"
      },
      "source": [
        "model2 = build_model(train_sentences, train_labels, test_sentences, test_labels, \n",
        "                     average=False, vocab_size=10000, truncating='pre')"
      ],
      "execution_count": 8,
      "outputs": [
        {
          "output_type": "stream",
          "text": [
            "Vocabulary size: 25717\n",
            "Model: \"sequential_1\"\n",
            "_________________________________________________________________\n",
            "Layer (type)                 Output Shape              Param #   \n",
            "=================================================================\n",
            "embedding_1 (Embedding)      (None, 100, 32)           822944    \n",
            "_________________________________________________________________\n",
            "flatten_1 (Flatten)          (None, 3200)              0         \n",
            "_________________________________________________________________\n",
            "dropout_2 (Dropout)          (None, 3200)              0         \n",
            "_________________________________________________________________\n",
            "dense_3 (Dense)              (None, 512)               1638912   \n",
            "_________________________________________________________________\n",
            "dropout_3 (Dropout)          (None, 512)               0         \n",
            "_________________________________________________________________\n",
            "dense_4 (Dense)              (None, 64)                32832     \n",
            "_________________________________________________________________\n",
            "dense_5 (Dense)              (None, 1)                 65        \n",
            "=================================================================\n",
            "Total params: 2,494,753\n",
            "Trainable params: 2,494,753\n",
            "Non-trainable params: 0\n",
            "_________________________________________________________________\n",
            "Epoch 1/5\n",
            "625/625 [==============================] - 5s 9ms/step - loss: 0.4692 - accuracy: 0.7625 - val_loss: 0.3567 - val_accuracy: 0.8398\n",
            "Epoch 2/5\n",
            "625/625 [==============================] - 5s 9ms/step - loss: 0.2581 - accuracy: 0.8970 - val_loss: 0.3262 - val_accuracy: 0.8577\n",
            "Epoch 3/5\n",
            "625/625 [==============================] - 5s 8ms/step - loss: 0.1613 - accuracy: 0.9380 - val_loss: 0.3609 - val_accuracy: 0.8553\n",
            "Epoch 4/5\n",
            "625/625 [==============================] - 5s 9ms/step - loss: 0.1083 - accuracy: 0.9594 - val_loss: 0.4256 - val_accuracy: 0.8508\n",
            "Epoch 5/5\n",
            "625/625 [==============================] - 6s 9ms/step - loss: 0.0787 - accuracy: 0.9706 - val_loss: 0.4854 - val_accuracy: 0.8480\n"
          ],
          "name": "stdout"
        }
      ]
    },
    {
      "cell_type": "code",
      "metadata": {
        "id": "dMZN2blRiBaN",
        "colab_type": "code",
        "colab": {
          "base_uri": "https://localhost:8080/",
          "height": 598
        },
        "outputId": "082fb908-6e19-4fbd-ad15-4b47704df7de"
      },
      "source": [
        "model3 = build_model(train_sentences, train_labels, test_sentences, test_labels, \n",
        "                     average=True, vocab_size=10000, truncating='post')"
      ],
      "execution_count": 9,
      "outputs": [
        {
          "output_type": "stream",
          "text": [
            "Vocabulary size: 25717\n",
            "Model: \"sequential_2\"\n",
            "_________________________________________________________________\n",
            "Layer (type)                 Output Shape              Param #   \n",
            "=================================================================\n",
            "embedding_2 (Embedding)      (None, 100, 32)           822944    \n",
            "_________________________________________________________________\n",
            "global_average_pooling1d (Gl (None, 32)                0         \n",
            "_________________________________________________________________\n",
            "dropout_4 (Dropout)          (None, 32)                0         \n",
            "_________________________________________________________________\n",
            "dense_6 (Dense)              (None, 512)               16896     \n",
            "_________________________________________________________________\n",
            "dropout_5 (Dropout)          (None, 512)               0         \n",
            "_________________________________________________________________\n",
            "dense_7 (Dense)              (None, 64)                32832     \n",
            "_________________________________________________________________\n",
            "dense_8 (Dense)              (None, 1)                 65        \n",
            "=================================================================\n",
            "Total params: 872,737\n",
            "Trainable params: 872,737\n",
            "Non-trainable params: 0\n",
            "_________________________________________________________________\n",
            "Epoch 1/5\n",
            "625/625 [==============================] - 5s 8ms/step - loss: 0.5761 - accuracy: 0.6700 - val_loss: 0.4277 - val_accuracy: 0.7974\n",
            "Epoch 2/5\n",
            "625/625 [==============================] - 5s 8ms/step - loss: 0.3467 - accuracy: 0.8531 - val_loss: 0.3582 - val_accuracy: 0.8384\n",
            "Epoch 3/5\n",
            "625/625 [==============================] - 5s 8ms/step - loss: 0.2735 - accuracy: 0.8900 - val_loss: 0.4071 - val_accuracy: 0.8252\n",
            "Epoch 4/5\n",
            "625/625 [==============================] - 5s 8ms/step - loss: 0.2308 - accuracy: 0.9103 - val_loss: 0.3469 - val_accuracy: 0.8569\n",
            "Epoch 5/5\n",
            "625/625 [==============================] - 5s 8ms/step - loss: 0.2035 - accuracy: 0.9234 - val_loss: 0.3688 - val_accuracy: 0.8478\n"
          ],
          "name": "stdout"
        }
      ]
    },
    {
      "cell_type": "code",
      "metadata": {
        "id": "u2Wcf0-oOkx8",
        "colab_type": "code",
        "colab": {
          "base_uri": "https://localhost:8080/",
          "height": 598
        },
        "outputId": "c6c855ad-4644-4ee4-ba70-60623bffc3dd"
      },
      "source": [
        "model4 = build_model(train_sentences, train_labels, test_sentences, test_labels, \n",
        "                     average=False, vocab_size=10000, truncating='pre')"
      ],
      "execution_count": 10,
      "outputs": [
        {
          "output_type": "stream",
          "text": [
            "Vocabulary size: 25717\n",
            "Model: \"sequential_3\"\n",
            "_________________________________________________________________\n",
            "Layer (type)                 Output Shape              Param #   \n",
            "=================================================================\n",
            "embedding_3 (Embedding)      (None, 100, 32)           822944    \n",
            "_________________________________________________________________\n",
            "flatten_2 (Flatten)          (None, 3200)              0         \n",
            "_________________________________________________________________\n",
            "dropout_6 (Dropout)          (None, 3200)              0         \n",
            "_________________________________________________________________\n",
            "dense_9 (Dense)              (None, 512)               1638912   \n",
            "_________________________________________________________________\n",
            "dropout_7 (Dropout)          (None, 512)               0         \n",
            "_________________________________________________________________\n",
            "dense_10 (Dense)             (None, 64)                32832     \n",
            "_________________________________________________________________\n",
            "dense_11 (Dense)             (None, 1)                 65        \n",
            "=================================================================\n",
            "Total params: 2,494,753\n",
            "Trainable params: 2,494,753\n",
            "Non-trainable params: 0\n",
            "_________________________________________________________________\n",
            "Epoch 1/5\n",
            "625/625 [==============================] - 5s 9ms/step - loss: 0.4789 - accuracy: 0.7488 - val_loss: 0.3433 - val_accuracy: 0.8504\n",
            "Epoch 2/5\n",
            "625/625 [==============================] - 5s 8ms/step - loss: 0.2597 - accuracy: 0.8942 - val_loss: 0.3340 - val_accuracy: 0.8587\n",
            "Epoch 3/5\n",
            "625/625 [==============================] - 5s 9ms/step - loss: 0.1641 - accuracy: 0.9395 - val_loss: 0.3560 - val_accuracy: 0.8530\n",
            "Epoch 4/5\n",
            "625/625 [==============================] - 5s 8ms/step - loss: 0.1061 - accuracy: 0.9601 - val_loss: 0.4206 - val_accuracy: 0.8438\n",
            "Epoch 5/5\n",
            "625/625 [==============================] - 5s 9ms/step - loss: 0.0740 - accuracy: 0.9721 - val_loss: 0.4531 - val_accuracy: 0.8471\n"
          ],
          "name": "stdout"
        }
      ]
    },
    {
      "cell_type": "code",
      "metadata": {
        "id": "cBPD0iRRPMB-",
        "colab_type": "code",
        "colab": {
          "base_uri": "https://localhost:8080/",
          "height": 598
        },
        "outputId": "e2401465-0658-47a2-b02b-246fa33c871a"
      },
      "source": [
        "model5 = build_model(train_sentences, train_labels, test_sentences, test_labels, \n",
        "                     average=False, vocab_size=5000, truncating='pre')"
      ],
      "execution_count": 11,
      "outputs": [
        {
          "output_type": "stream",
          "text": [
            "Vocabulary size: 25717\n",
            "Model: \"sequential_4\"\n",
            "_________________________________________________________________\n",
            "Layer (type)                 Output Shape              Param #   \n",
            "=================================================================\n",
            "embedding_4 (Embedding)      (None, 100, 32)           822944    \n",
            "_________________________________________________________________\n",
            "flatten_3 (Flatten)          (None, 3200)              0         \n",
            "_________________________________________________________________\n",
            "dropout_8 (Dropout)          (None, 3200)              0         \n",
            "_________________________________________________________________\n",
            "dense_12 (Dense)             (None, 512)               1638912   \n",
            "_________________________________________________________________\n",
            "dropout_9 (Dropout)          (None, 512)               0         \n",
            "_________________________________________________________________\n",
            "dense_13 (Dense)             (None, 64)                32832     \n",
            "_________________________________________________________________\n",
            "dense_14 (Dense)             (None, 1)                 65        \n",
            "=================================================================\n",
            "Total params: 2,494,753\n",
            "Trainable params: 2,494,753\n",
            "Non-trainable params: 0\n",
            "_________________________________________________________________\n",
            "Epoch 1/5\n",
            "625/625 [==============================] - 6s 9ms/step - loss: 0.4633 - accuracy: 0.7651 - val_loss: 0.3473 - val_accuracy: 0.8463\n",
            "Epoch 2/5\n",
            "625/625 [==============================] - 5s 9ms/step - loss: 0.2885 - accuracy: 0.8784 - val_loss: 0.3350 - val_accuracy: 0.8535\n",
            "Epoch 3/5\n",
            "625/625 [==============================] - 5s 8ms/step - loss: 0.2120 - accuracy: 0.9155 - val_loss: 0.3584 - val_accuracy: 0.8477\n",
            "Epoch 4/5\n",
            "625/625 [==============================] - 5s 8ms/step - loss: 0.1631 - accuracy: 0.9340 - val_loss: 0.4087 - val_accuracy: 0.8454\n",
            "Epoch 5/5\n",
            "625/625 [==============================] - 5s 9ms/step - loss: 0.1314 - accuracy: 0.9510 - val_loss: 0.4384 - val_accuracy: 0.8354\n"
          ],
          "name": "stdout"
        }
      ]
    }
  ]
}