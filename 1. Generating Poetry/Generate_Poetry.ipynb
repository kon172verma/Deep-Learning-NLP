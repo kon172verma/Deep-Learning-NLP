{
  "nbformat": 4,
  "nbformat_minor": 0,
  "metadata": {
    "colab": {
      "name": "Generate Poetry.ipynb",
      "provenance": [],
      "collapsed_sections": []
    },
    "kernelspec": {
      "name": "python3",
      "display_name": "Python 3"
    },
    "accelerator": "GPU"
  },
  "cells": [
    {
      "cell_type": "markdown",
      "metadata": {
        "id": "29sEzVb1FvtV",
        "colab_type": "text"
      },
      "source": [
        "----\n",
        "<h1><b>Generate Poetry</b></h1>\n",
        "<p> - Konark Verma</p>\n",
        "</br>\n",
        "<p><b>Problem Statement:</b></p><p>Given a collection of Irish Poems, we want to built a Deep Learning System that could help us generate similar poems.</p>\n",
        "</br>\n",
        "<p><b>Real-world/Business objectives and constraints:</b>\n",
        "<ol>\n",
        "<li>Minimize multi-class error.</li>\n",
        "<li>Multi-class probability estimates.</li>\n",
        "<li>Generating output should not take hours and block the user's computer. It should finish within a few seconds.</li>\n",
        "</ol>\n"
      ]
    },
    {
      "cell_type": "code",
      "metadata": {
        "id": "pQBhlHKx9nhx",
        "colab_type": "code",
        "colab": {}
      },
      "source": [
        "# Importing the required libraries.\n",
        "import tensorflow as tf\n",
        "import numpy as np\n",
        "import matplotlib.pyplot as plt\n",
        "from tensorflow.keras.preprocessing.text import Tokenizer\n",
        "from tensorflow.keras.preprocessing.sequence import pad_sequences"
      ],
      "execution_count": 1,
      "outputs": []
    },
    {
      "cell_type": "markdown",
      "metadata": {
        "id": "DhJTrs83J84F",
        "colab_type": "text"
      },
      "source": [
        "----\n",
        "<h3><b>Collecting the data</b></h3>\n",
        "\n",
        "<p><b>Data:</b></p><p>Our dataset contains a collection of Irish poems, and we have used the following link for fetching it: </br><a>https://storage.googleapis.com/laurencemoroney-blog.appspot.com/irish-lyrics-eof.txt</a></p>\n",
        "\n",
        "<b>Data sample:</b></br>\n",
        "<p><i>\n",
        "Come all ye maidens young and fair</br>\n",
        "And you that are blooming in your prime</br>\n",
        "Always beware and keep your garden fair</br>\n",
        "Let no man steal away your thyme</br>\n",
        "For thyme it is a precious thing</br>\n",
        "And thyme brings all things to my mind</br>\n",
        "</i></p>\n",
        "</br>"
      ]
    },
    {
      "cell_type": "code",
      "metadata": {
        "id": "EWFNGsKC-f8p",
        "colab_type": "code",
        "colab": {
          "base_uri": "https://localhost:8080/",
          "height": 306
        },
        "outputId": "990e0f97-2bb1-447b-9373-32310d7ead2f"
      },
      "source": [
        "# Collecting the text file containing the list of Irish Poems.\n",
        "!wget no-check-certificate \\\n",
        "https://storage.googleapis.com/laurencemoroney-blog.appspot.com/irish-lyrics-eof.txt \\\n",
        "-O /tmp/irish_poetry.txt"
      ],
      "execution_count": 2,
      "outputs": [
        {
          "output_type": "stream",
          "text": [
            "--2020-06-20 18:50:06--  http://no-check-certificate/\n",
            "Resolving no-check-certificate (no-check-certificate)... failed: Name or service not known.\n",
            "wget: unable to resolve host address ‘no-check-certificate’\n",
            "--2020-06-20 18:50:06--  https://storage.googleapis.com/laurencemoroney-blog.appspot.com/irish-lyrics-eof.txt\n",
            "Resolving storage.googleapis.com (storage.googleapis.com)... 142.250.4.128, 2404:6800:4003:c00::80\n",
            "Connecting to storage.googleapis.com (storage.googleapis.com)|142.250.4.128|:443... connected.\n",
            "HTTP request sent, awaiting response... 200 OK\n",
            "Length: 68970 (67K) [text/plain]\n",
            "Saving to: ‘/tmp/irish_poetry.txt’\n",
            "\n",
            "\r/tmp/irish_poetry.t   0%[                    ]       0  --.-KB/s               \r/tmp/irish_poetry.t 100%[===================>]  67.35K  --.-KB/s    in 0s      \n",
            "\n",
            "2020-06-20 18:50:06 (145 MB/s) - ‘/tmp/irish_poetry.txt’ saved [68970/68970]\n",
            "\n",
            "FINISHED --2020-06-20 18:50:06--\n",
            "Total wall clock time: 0.3s\n",
            "Downloaded: 1 files, 67K in 0s (145 MB/s)\n"
          ],
          "name": "stdout"
        }
      ]
    },
    {
      "cell_type": "markdown",
      "metadata": {
        "id": "d99b-f_IadG4",
        "colab_type": "text"
      },
      "source": [
        "----\n",
        "<h3><b>Exploratory Data Analysis</b></h3>"
      ]
    },
    {
      "cell_type": "code",
      "metadata": {
        "id": "vDAPghICPFN4",
        "colab_type": "code",
        "colab": {
          "base_uri": "https://localhost:8080/",
          "height": 383
        },
        "outputId": "d9738b63-e7e1-4870-e64a-f08724602e36"
      },
      "source": [
        "# Counting the number of lines in our dataset.\n",
        "with open('/tmp/irish_poetry.txt') as file:\n",
        "    data = file.read().split('\\n')[:-1]\n",
        "    lines = len(data)\n",
        "print('Number of poem lines in our dataset:', lines)\n",
        "\n",
        "# Counting the number of unique words in our dataset.\n",
        "tokenizer = Tokenizer()\n",
        "tokenizer.fit_on_texts(data)\n",
        "words = len(tokenizer.word_index)\n",
        "print('Number of unique words in our dataset:', words)\n",
        "print()\n",
        "\n",
        "# Finding the minumum and maximum number of words in a sentence.\n",
        "data_tokenized = tokenizer.texts_to_sequences(data)\n",
        "lines_length = [len(sentence) for sentence in data_tokenized]\n",
        "print('Minimum length of a sentence', min(lines_length))\n",
        "print('Maximum length of a sentence', max(lines_length))\n",
        "print()\n",
        "\n",
        "# Plotting a graph representing the words in different sentences.\n",
        "plt.title('Length of sentences')\n",
        "plt.hist(lines_length, bins=np.arange(2,18)-0.5)\n",
        "plt.xlim([1, 17])\n",
        "plt.show()"
      ],
      "execution_count": 3,
      "outputs": [
        {
          "output_type": "stream",
          "text": [
            "Number of poem lines in our dataset: 1692\n",
            "Number of unique words in our dataset: 2689\n",
            "\n",
            "Minimum length of a sentence 2\n",
            "Maximum length of a sentence 16\n",
            "\n"
          ],
          "name": "stdout"
        },
        {
          "output_type": "display_data",
          "data": {
            "image/png": "[encoded data removed]",
            "text/plain": [
              "<Figure size 432x288 with 1 Axes>"
            ]
          },
          "metadata": {
            "tags": [],
            "needs_background": "light"
          }
        }
      ]
    },
    {
      "cell_type": "markdown",
      "metadata": {
        "id": "c1fMOnZWaAXH",
        "colab_type": "text"
      },
      "source": [
        "-----\n",
        "<h3><b>Preparing the Data</b></h3>\n",
        "<p><b>Steps:</b></p>\n",
        "<ol>\n",
        "<li>Tokenizing the data, using a word tokenizer</li>\n",
        "<li>Create n-gram sequences</li>\n",
        "<li>Pre-padding the sentences to make them of equal lengths</li>\n",
        "<li>Spliting the last word from each sentence to form label</li>\n",
        "</ol>\n",
        "\n",
        "Consider this example:<br>\n",
        "* Sentence : 'Come all ye maidens young and fair'</br>\n",
        "* Step-1 : </br>\n",
        " [51, 12, 96, 1217, 48, 2, 69]\n",
        "* Step-2 : </br>\n",
        " [51, 12]</br>\n",
        " [51, 12, 96]</br>\n",
        " [51, 12, 96, 1217]</br>\n",
        " [51, 12, 96, 1217, 48]</br>\n",
        " [51, 12, 96, 1217, 48, 2]</br>\n",
        " [51, 12, 96, 1217, 48, 2, 69]</br>\n",
        "* Step-3 : </br>\n",
        "[ 0, 0, 0, 0, 0, 0, 0, 0, 0, 0, 0, 0, 0, 0, 51, 12]</br>\n",
        "[ 0, 0, 0, 0, 0, 0, 0, 0, 0, 0, 0, 0, 0, 51, 12, 96]</br>\n",
        "[ 0, 0, 0, 0, 0, 0, 0, 0, 0, 0, 0, 0, 51, 12, 96, 1217]</br>\n",
        "[ 0, 0, 0, 0, 0, 0, 0, 0, 0, 0, 0, 51, 12, 96, 1217, 48]</br>\n",
        "[ 0, 0, 0, 0, 0, 0, 0, 0, 0, 0, 51, 12, 96, 1217, 48, 2]</br>\n",
        "[ 0, 0, 0, 0, 0, 0, 0, 0, 0, 51, 12, 96, 1217, 48, 2, 69]</br>\n",
        "* Step-4 : </br>\n",
        "Final training sequences and labels: </br>\n",
        "[ 0, 0, 0, 0, 0, 0, 0, 0, 0, 0, 0, 0, 0, 0, 51]&nbsp;&nbsp;&nbsp;&nbsp;&nbsp;&nbsp;&nbsp;&nbsp;&nbsp;&nbsp;&nbsp;&nbsp;&nbsp;&nbsp;&nbsp;&nbsp;[12]</br>\n",
        "[ 0, 0, 0, 0, 0, 0, 0, 0, 0, 0, 0, 0, 0, 51, 12]&nbsp;&nbsp;&nbsp;&nbsp;&nbsp;&nbsp;&nbsp;&nbsp;&nbsp;&nbsp;&nbsp;&nbsp;&nbsp;&nbsp;[96]</br>\n",
        "[ 0, 0, 0, 0, 0, 0, 0, 0, 0, 0, 0, 0, 51, 12, 96]&nbsp;&nbsp;&nbsp;&nbsp;&nbsp;&nbsp;&nbsp;&nbsp;&nbsp;&nbsp;&nbsp;&nbsp;[1217]</br>\n",
        "[ 0, 0, 0, 0, 0, 0, 0, 0, 0, 0, 0, 51, 12, 96, 1217]&nbsp;&nbsp;&nbsp;&nbsp;&nbsp;[48]</br>\n",
        "[ 0, 0, 0, 0, 0, 0, 0, 0, 0, 0, 51, 12, 96, 1217, 48]&nbsp;&nbsp;&nbsp;[2]</br>\n",
        "[ 0, 0, 0, 0, 0, 0, 0, 0, 0, 51, 12, 96, 1217, 48, 2]&nbsp;&nbsp;&nbsp;[69]</br>"
      ]
    },
    {
      "cell_type": "code",
      "metadata": {
        "id": "ZF_8_pcGBI2l",
        "colab_type": "code",
        "colab": {}
      },
      "source": [
        "# Opening the text file containing the Irish Poems.\n",
        "with open('/tmp/irish_poetry.txt') as file:\n",
        "    data = file.read().split('\\n')[:-1]\n",
        "\n",
        "# Tokenizing the data, using word tokenizer.\n",
        "tokenizer = Tokenizer()\n",
        "tokenizer.fit_on_texts(data)\n",
        "data_tokenized = tokenizer.texts_to_sequences(data)\n",
        "\n",
        "# Creating the n-gram sequences.\n",
        "training_sequences = []\n",
        "for sequence in data_tokenized:\n",
        "    for i in range(2,len(sequence)+1):\n",
        "        training_sequences.append(sequence[:i])\n",
        "\n",
        "# Pre-padding the data with zeros.\n",
        "data_padded = pad_sequences(training_sequences)\n",
        "\n",
        "# Preparing the training data.\n",
        "x_train, y_train = data_padded[:,:-1], data_padded[:,-1]"
      ],
      "execution_count": 4,
      "outputs": []
    },
    {
      "cell_type": "markdown",
      "metadata": {
        "id": "u-jmOcJnVY3a",
        "colab_type": "text"
      },
      "source": [
        "----\n",
        "<h3><b>Training the model</b></h3>\n",
        "<p>We are using a Sequential model with the following layers:</p>\n",
        "<ol>\n",
        "<li>Embedding</li>\n",
        "<li>Bidirectional LSTM</li>\n",
        "<li>Dropout</li>\n",
        "<li>LSTM</li>\n",
        "<li>Dense</li>\n",
        "<li>Dense</li>\n",
        "</ol>\n",
        "\n",
        "<p>We are also using the following parameters:</p>\n",
        "<ul>\n",
        "<li>vocab_size = len(tokenizer.word_index) + 1</li>\n",
        "<li>wv_dims = 100</li>\n",
        "<li>input_length = x_train.shape[1]</li>\n",
        "<li>dropout_rate = 0.2</li>\n",
        "<li>lstm_units = 128</li>\n",
        "<li>regularization_rate = 0.01</li>\n",
        "<li>epochs = 60</li>\n",
        "</ul>"
      ]
    },
    {
      "cell_type": "code",
      "metadata": {
        "id": "V2Y76veBgmLJ",
        "colab_type": "code",
        "colab": {}
      },
      "source": [
        "# Setting the parameters for our model.\n",
        "vocab_size = len(tokenizer.word_index) + 1\n",
        "wv_dims = 100\n",
        "input_length = x_train.shape[1]\n",
        "dropout_rate = 0.2\n",
        "lstm_units = 128\n",
        "regularization_rate = 0.01\n",
        "epochs = 60"
      ],
      "execution_count": 5,
      "outputs": []
    },
    {
      "cell_type": "code",
      "metadata": {
        "id": "trFFZ0k6F6xX",
        "colab_type": "code",
        "colab": {
          "base_uri": "https://localhost:8080/",
          "height": 1000
        },
        "outputId": "3ac4a78a-8f11-49d0-f7f4-7709fdb45c39"
      },
      "source": [
        "# Building a sequential model with Bidirectional LSTM and LSTM layers.\n",
        "model = tf.keras.Sequential()\n",
        "model.add(tf.keras.layers.Embedding(vocab_size, wv_dims, input_length=input_length))\n",
        "model.add(tf.keras.layers.Bidirectional(tf.keras.layers.LSTM(lstm_units, return_sequences=True)))\n",
        "model.add(tf.keras.layers.Dropout(dropout_rate))\n",
        "model.add(tf.keras.layers.LSTM(lstm_units))\n",
        "model.add(tf.keras.layers.Dense(vocab_size//4, activation='relu', \n",
        "                                activity_regularizer=tf.keras.regularizers.l2(regularization_rate)))\n",
        "model.add(tf.keras.layers.Dense(vocab_size, activation='softmax'))\n",
        "\n",
        "# Printing the summary of our model.\n",
        "model.summary()\n",
        "\n",
        "# Compiling our model.\n",
        "model.compile(optimizer='adam', loss='sparse_categorical_crossentropy', metrics=['accuracy'])\n",
        "\n",
        "# Finally, training the model.\n",
        "history = model.fit(x_train, y_train, epochs=epochs)"
      ],
      "execution_count": 6,
      "outputs": [
        {
          "output_type": "stream",
          "text": [
            "Model: \"sequential\"\n",
            "_________________________________________________________________\n",
            "Layer (type)                 Output Shape              Param #   \n",
            "=================================================================\n",
            "embedding (Embedding)        (None, 15, 100)           269000    \n",
            "_________________________________________________________________\n",
            "bidirectional (Bidirectional (None, 15, 256)           234496    \n",
            "_________________________________________________________________\n",
            "dropout (Dropout)            (None, 15, 256)           0         \n",
            "_________________________________________________________________\n",
            "lstm_1 (LSTM)                (None, 128)               197120    \n",
            "_________________________________________________________________\n",
            "dense (Dense)                (None, 672)               86688     \n",
            "_________________________________________________________________\n",
            "dense_1 (Dense)              (None, 2690)              1810370   \n",
            "=================================================================\n",
            "Total params: 2,597,674\n",
            "Trainable params: 2,597,674\n",
            "Non-trainable params: 0\n",
            "_________________________________________________________________\n",
            "Epoch 1/60\n",
            "377/377 [==============================] - 4s 10ms/step - loss: 6.7455 - accuracy: 0.0659\n",
            "Epoch 2/60\n",
            "377/377 [==============================] - 4s 10ms/step - loss: 6.2349 - accuracy: 0.0759\n",
            "Epoch 3/60\n",
            "377/377 [==============================] - 4s 10ms/step - loss: 6.0018 - accuracy: 0.0831\n",
            "Epoch 4/60\n",
            "377/377 [==============================] - 4s 11ms/step - loss: 5.7466 - accuracy: 0.0989\n",
            "Epoch 5/60\n",
            "377/377 [==============================] - 4s 10ms/step - loss: 5.4547 - accuracy: 0.1105\n",
            "Epoch 6/60\n",
            "377/377 [==============================] - 4s 11ms/step - loss: 5.1813 - accuracy: 0.1258\n",
            "Epoch 7/60\n",
            "377/377 [==============================] - 4s 10ms/step - loss: 4.9184 - accuracy: 0.1416\n",
            "Epoch 8/60\n",
            "377/377 [==============================] - 4s 11ms/step - loss: 4.6726 - accuracy: 0.1590\n",
            "Epoch 9/60\n",
            "377/377 [==============================] - 4s 10ms/step - loss: 4.4199 - accuracy: 0.1781\n",
            "Epoch 10/60\n",
            "377/377 [==============================] - 4s 10ms/step - loss: 4.1555 - accuracy: 0.1983\n",
            "Epoch 11/60\n",
            "377/377 [==============================] - 4s 10ms/step - loss: 3.8729 - accuracy: 0.2304\n",
            "Epoch 12/60\n",
            "377/377 [==============================] - 4s 10ms/step - loss: 3.5703 - accuracy: 0.2674\n",
            "Epoch 13/60\n",
            "377/377 [==============================] - 4s 10ms/step - loss: 3.2463 - accuracy: 0.3233\n",
            "Epoch 14/60\n",
            "377/377 [==============================] - 4s 10ms/step - loss: 2.9339 - accuracy: 0.3898\n",
            "Epoch 15/60\n",
            "377/377 [==============================] - 4s 10ms/step - loss: 2.6334 - accuracy: 0.4659\n",
            "Epoch 16/60\n",
            "377/377 [==============================] - 4s 11ms/step - loss: 2.3638 - accuracy: 0.5335\n",
            "Epoch 17/60\n",
            "377/377 [==============================] - 4s 10ms/step - loss: 2.1324 - accuracy: 0.5949\n",
            "Epoch 18/60\n",
            "377/377 [==============================] - 4s 10ms/step - loss: 1.9230 - accuracy: 0.6468\n",
            "Epoch 19/60\n",
            "377/377 [==============================] - 4s 10ms/step - loss: 1.7485 - accuracy: 0.6895\n",
            "Epoch 20/60\n",
            "377/377 [==============================] - 4s 10ms/step - loss: 1.6002 - accuracy: 0.7293\n",
            "Epoch 21/60\n",
            "377/377 [==============================] - 4s 10ms/step - loss: 1.4726 - accuracy: 0.7534\n",
            "Epoch 22/60\n",
            "377/377 [==============================] - 4s 10ms/step - loss: 1.3663 - accuracy: 0.7774\n",
            "Epoch 23/60\n",
            "377/377 [==============================] - 4s 10ms/step - loss: 1.2803 - accuracy: 0.7923\n",
            "Epoch 24/60\n",
            "377/377 [==============================] - 4s 11ms/step - loss: 1.1950 - accuracy: 0.8079\n",
            "Epoch 25/60\n",
            "377/377 [==============================] - 4s 11ms/step - loss: 1.1307 - accuracy: 0.8153\n",
            "Epoch 26/60\n",
            "377/377 [==============================] - 4s 11ms/step - loss: 1.0739 - accuracy: 0.8295\n",
            "Epoch 27/60\n",
            "377/377 [==============================] - 4s 11ms/step - loss: 1.0227 - accuracy: 0.8318\n",
            "Epoch 28/60\n",
            "377/377 [==============================] - 4s 11ms/step - loss: 0.9801 - accuracy: 0.8364\n",
            "Epoch 29/60\n",
            "377/377 [==============================] - 4s 11ms/step - loss: 0.9447 - accuracy: 0.8408\n",
            "Epoch 30/60\n",
            "377/377 [==============================] - 4s 10ms/step - loss: 0.9120 - accuracy: 0.8432\n",
            "Epoch 31/60\n",
            "377/377 [==============================] - 4s 10ms/step - loss: 0.8788 - accuracy: 0.8452\n",
            "Epoch 32/60\n",
            "377/377 [==============================] - 4s 11ms/step - loss: 0.8511 - accuracy: 0.8479\n",
            "Epoch 33/60\n",
            "377/377 [==============================] - 4s 10ms/step - loss: 0.8279 - accuracy: 0.8486\n",
            "Epoch 34/60\n",
            "377/377 [==============================] - 4s 10ms/step - loss: 0.8013 - accuracy: 0.8492\n",
            "Epoch 35/60\n",
            "377/377 [==============================] - 4s 10ms/step - loss: 0.7849 - accuracy: 0.8500\n",
            "Epoch 36/60\n",
            "377/377 [==============================] - 4s 10ms/step - loss: 0.7693 - accuracy: 0.8501\n",
            "Epoch 37/60\n",
            "377/377 [==============================] - 4s 10ms/step - loss: 0.7596 - accuracy: 0.8481\n",
            "Epoch 38/60\n",
            "377/377 [==============================] - 4s 10ms/step - loss: 0.7402 - accuracy: 0.8507\n",
            "Epoch 39/60\n",
            "377/377 [==============================] - 4s 10ms/step - loss: 0.7246 - accuracy: 0.8503\n",
            "Epoch 40/60\n",
            "377/377 [==============================] - 4s 10ms/step - loss: 0.7118 - accuracy: 0.8515\n",
            "Epoch 41/60\n",
            "377/377 [==============================] - 4s 10ms/step - loss: 0.6987 - accuracy: 0.8521\n",
            "Epoch 42/60\n",
            "377/377 [==============================] - 4s 10ms/step - loss: 0.6875 - accuracy: 0.8529\n",
            "Epoch 43/60\n",
            "377/377 [==============================] - 4s 10ms/step - loss: 0.6750 - accuracy: 0.8526\n",
            "Epoch 44/60\n",
            "377/377 [==============================] - 4s 10ms/step - loss: 0.6664 - accuracy: 0.8516\n",
            "Epoch 45/60\n",
            "377/377 [==============================] - 4s 10ms/step - loss: 0.6529 - accuracy: 0.8532\n",
            "Epoch 46/60\n",
            "377/377 [==============================] - 4s 10ms/step - loss: 0.6468 - accuracy: 0.8527\n",
            "Epoch 47/60\n",
            "377/377 [==============================] - 4s 10ms/step - loss: 0.6438 - accuracy: 0.8517\n",
            "Epoch 48/60\n",
            "377/377 [==============================] - 4s 11ms/step - loss: 0.6360 - accuracy: 0.8521\n",
            "Epoch 49/60\n",
            "377/377 [==============================] - 4s 10ms/step - loss: 0.6287 - accuracy: 0.8540\n",
            "Epoch 50/60\n",
            "377/377 [==============================] - 4s 10ms/step - loss: 0.6193 - accuracy: 0.8545\n",
            "Epoch 51/60\n",
            "377/377 [==============================] - 4s 11ms/step - loss: 0.6065 - accuracy: 0.8542\n",
            "Epoch 52/60\n",
            "377/377 [==============================] - 4s 10ms/step - loss: 0.6049 - accuracy: 0.8531\n",
            "Epoch 53/60\n",
            "377/377 [==============================] - 4s 11ms/step - loss: 0.5991 - accuracy: 0.8528\n",
            "Epoch 54/60\n",
            "377/377 [==============================] - 4s 10ms/step - loss: 0.5918 - accuracy: 0.8548\n",
            "Epoch 55/60\n",
            "377/377 [==============================] - 4s 10ms/step - loss: 0.5968 - accuracy: 0.8525\n",
            "Epoch 56/60\n",
            "377/377 [==============================] - 4s 10ms/step - loss: 0.5922 - accuracy: 0.8534\n",
            "Epoch 57/60\n",
            "377/377 [==============================] - 4s 11ms/step - loss: 0.5811 - accuracy: 0.8533\n",
            "Epoch 58/60\n",
            "377/377 [==============================] - 4s 11ms/step - loss: 0.5770 - accuracy: 0.8524\n",
            "Epoch 59/60\n",
            "377/377 [==============================] - 4s 10ms/step - loss: 0.5695 - accuracy: 0.8556\n",
            "Epoch 60/60\n",
            "377/377 [==============================] - 4s 10ms/step - loss: 0.5649 - accuracy: 0.8536\n"
          ],
          "name": "stdout"
        }
      ]
    },
    {
      "cell_type": "markdown",
      "metadata": {
        "id": "f4OC-lAPh0fS",
        "colab_type": "text"
      },
      "source": [
        "----\n",
        "<h3><b>Plotting the training accuracy and training loss</b></h3>"
      ]
    },
    {
      "cell_type": "code",
      "metadata": {
        "id": "pwJrPlXPHNBC",
        "colab_type": "code",
        "colab": {
          "base_uri": "https://localhost:8080/",
          "height": 336
        },
        "outputId": "aa93eb63-1ba7-40d6-b4bc-f9c5672069e4"
      },
      "source": [
        "# Getting the values of accuracy and loss from history.\n",
        "accuracy = np.array(history.history['accuracy'])*100\n",
        "loss = history.history['loss']\n",
        "epochs = range(len(accuracy))\n",
        "\n",
        "# Plotting the graphs.\n",
        "plt.figure(figsize=(16,5))\n",
        "plt.subplot(121)\n",
        "plt.plot(epochs, accuracy, label='Accuracy')\n",
        "plt.ylabel('Accuracy')\n",
        "plt.xlabel('Epochs')\n",
        "plt.legend()\n",
        "plt.subplot(122)\n",
        "plt.plot(epochs, loss, label='Loss')\n",
        "plt.ylabel('Loss')\n",
        "plt.xlabel('Epochs')\n",
        "plt.legend()\n",
        "plt.show()"
      ],
      "execution_count": 7,
      "outputs": [
        {
          "output_type": "display_data",
          "data": {
            "image/png": "[encoded data removed]",
            "text/plain": [
              "<Figure size 1152x360 with 2 Axes>"
            ]
          },
          "metadata": {
            "tags": [],
            "needs_background": "light"
          }
        }
      ]
    },
    {
      "cell_type": "markdown",
      "metadata": {
        "id": "p7mHI4XmmOe-",
        "colab_type": "text"
      },
      "source": [
        "----\n",
        "<h3><b>Generate the text using the learned model</b></h3>"
      ]
    },
    {
      "cell_type": "code",
      "metadata": {
        "id": "NM_sl2II82f_",
        "colab_type": "code",
        "colab": {}
      },
      "source": [
        "def generate_poem(text, next_words):\n",
        "    for _ in range(next_words):\n",
        "        tokenized_string = tokenizer.texts_to_sequences([text])[0]\n",
        "        token_list = pad_sequences([tokenized_string], maxlen=x_train.shape[1])\n",
        "        predicted = np.argmax(model.predict(token_list, verbose=0), axis=-1)\n",
        "        output_word = \"\"\n",
        "        for word, index in tokenizer.word_index.items():\n",
        "            if index == predicted:\n",
        "                output_word = word\n",
        "                break\n",
        "        text += \" \" + output_word\n",
        "    return text"
      ],
      "execution_count": 8,
      "outputs": []
    },
    {
      "cell_type": "markdown",
      "metadata": {
        "id": "fxA6YJ7DmYtM",
        "colab_type": "text"
      },
      "source": [
        "<p><b>Example-1</b></p>"
      ]
    },
    {
      "cell_type": "code",
      "metadata": {
        "id": "4llKtJ3G-G4B",
        "colab_type": "code",
        "colab": {
          "base_uri": "https://localhost:8080/",
          "height": 54
        },
        "outputId": "1c231e7b-d344-40da-954f-34bc28cae8e0"
      },
      "source": [
        "user_input = 'Oh once great men have fallen'\n",
        "next_words = 50\n",
        "generate_poem(user_input, next_words)"
      ],
      "execution_count": 9,
      "outputs": [
        {
          "output_type": "execute_result",
          "data": {
            "text/plain": [
              "'Oh once great men have fallen all your path when she see her more night to his fathers tree and tough on by proud saxon and tory are growin soon i was now forty three died are late in the sun then found a foemans heart to break my breast for the girl i lovd best'"
            ]
          },
          "metadata": {
            "tags": []
          },
          "execution_count": 9
        }
      ]
    },
    {
      "cell_type": "markdown",
      "metadata": {
        "id": "QlyNpzEPmg_J",
        "colab_type": "text"
      },
      "source": [
        "<p><b>Example-2</b></p>"
      ]
    },
    {
      "cell_type": "code",
      "metadata": {
        "id": "3uglNHVi_Ylq",
        "colab_type": "code",
        "colab": {
          "base_uri": "https://localhost:8080/",
          "height": 54
        },
        "outputId": "e81c02a7-529f-45f3-9ecf-fed0bdef2023"
      },
      "source": [
        "user_input = ''\n",
        "next_words = 50\n",
        "generate_poem(user_input, next_words)"
      ],
      "execution_count": 10,
      "outputs": [
        {
          "output_type": "execute_result",
          "data": {
            "text/plain": [
              "' i met with the tailor quigley hes a bould as ever still be lie oer me clothes asleep oer the bogs wid i go home to play wid you if she could sing ye told me and the girls in its too mary and the way they put them down'"
            ]
          },
          "metadata": {
            "tags": []
          },
          "execution_count": 10
        }
      ]
    },
    {
      "cell_type": "markdown",
      "metadata": {
        "id": "-3WCTSWvmjXg",
        "colab_type": "text"
      },
      "source": [
        "<p><b>Example-3</b></p>"
      ]
    },
    {
      "cell_type": "code",
      "metadata": {
        "id": "68bQfzkvHQ1Q",
        "colab_type": "code",
        "colab": {
          "base_uri": "https://localhost:8080/",
          "height": 54
        },
        "outputId": "3719550d-877d-4b44-b044-3a62eef5c25e"
      },
      "source": [
        "user_input = 'help me jesus, you are my only hope'\n",
        "next_words = 50\n",
        "generate_poem(user_input, next_words)"
      ],
      "execution_count": null,
      "outputs": [
        {
          "output_type": "execute_result",
          "data": {
            "text/plain": [
              "'help me jesus, you are my only hope they said i heard my father say no more on the mist my dear they sighed and she said she said she had a saint man why i courted her caubeen a band of currabawn their rest from his isle of doneen rose they say by my more father died'"
            ]
          },
          "metadata": {
            "tags": []
          },
          "execution_count": 11
        }
      ]
    },
    {
      "cell_type": "markdown",
      "metadata": {
        "id": "AwASsnS5nciO",
        "colab_type": "text"
      },
      "source": [
        "----\n",
        "<h3><b>Conclusions</b></h3>\n",
        "\n",
        "* On retraining the model we may get different results, but we do need to add line breaks ourselves.\n",
        "\n",
        "<b>Example of generated text:</b>\n",
        "help me jesus, you are my only hope they said i heard my father say no more on the mist my dear they sighed and she said she said she had a saint man why i courted her caubeen a band of currabawn their rest from his isle of doneen rose they say by my more father died\n",
        "\n",
        "<b>Poem after adding line breaks:</b></br>\n",
        " help me jesus, you are my only hope they said </br>\n",
        " i heard my father say no more</br>\n",
        " on the mist my dear they sighed </br>\n",
        " and she said she said </br>\n",
        " she had a saint man </br>\n",
        " why i courted her </br>\n",
        " caubeen a band of currabawn </br>\n",
        " their rest from his isle </br>\n",
        " of doneen rose </br>\n",
        " they say by my more father died</br>\n",
        "</br>\n",
        "\n",
        "<b>Some points to note:</b>\n",
        "* These results are quite good, the poems rhyme and do make some sense.\n",
        "* These poems are not perfect, and can have some improvement.\n",
        "* We actually need more training data, and much more computation power, to generate meaningful and really good poems\n",
        "---"
      ]
    }
  ]
}